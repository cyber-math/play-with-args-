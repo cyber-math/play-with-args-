{
 "cells": [
  {
   "cell_type": "code",
   "execution_count": 9,
   "metadata": {},
   "outputs": [
    {
     "name": "stdout",
     "output_type": "stream",
     "text": [
      "LRKDM\n"
     ]
    }
   ],
   "source": [
    "# Define read\n",
    "def read(*args):\n",
    "    \"\"\"Concatenate the first letter of strings in *args together.\"\"\"\n",
    "\n",
    "    # Initialize an empty string: write \n",
    "    write = ''\n",
    "\n",
    "    # Concatenate the strings in args\n",
    "    for word in args:\n",
    "        write += word[0]\n",
    "\n",
    "    # Return write\n",
    "    return write\n",
    "\n",
    "\n",
    "# Call read() with five strings: names\n",
    "names = read(\"Liz\", \"Rachel\", \"Khan\", \"Dosto\", \"Mecnun\")\n",
    "\n",
    "# Print names\n",
    "print(names)\n"
   ]
  },
  {
   "cell_type": "code",
   "execution_count": null,
   "metadata": {
    "collapsed": true
   },
   "outputs": [],
   "source": []
  },
  {
   "cell_type": "code",
   "execution_count": null,
   "metadata": {
    "collapsed": true
   },
   "outputs": [],
   "source": []
  }
 ],
 "metadata": {
  "kernelspec": {
   "display_name": "Python 3",
   "language": "python",
   "name": "python3"
  },
  "language_info": {
   "codemirror_mode": {
    "name": "ipython",
    "version": 3
   },
   "file_extension": ".py",
   "mimetype": "text/x-python",
   "name": "python",
   "nbconvert_exporter": "python",
   "pygments_lexer": "ipython3",
   "version": "3.6.3"
  }
 },
 "nbformat": 4,
 "nbformat_minor": 2
}
